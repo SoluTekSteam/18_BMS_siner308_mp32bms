{
 "cells": [
  {
   "cell_type": "code",
   "execution_count": 3,
   "metadata": {
    "collapsed": true
   },
   "outputs": [],
   "source": [
    "import pandas\n",
    "import sys\n",
    "sys.path.append('/Users/siner/repositories/opensource/bemusic/bms2mp3')"
   ]
  },
  {
   "cell_type": "code",
   "execution_count": 4,
   "outputs": [],
   "source": [
    "dataset = pandas.read_csv('../training_set.csv')"
   ],
   "metadata": {
    "collapsed": false
   }
  },
  {
   "cell_type": "code",
   "execution_count": 5,
   "outputs": [
    {
     "data": {
      "text/plain": "   input_duration  input_difficulty  input_level  output_duration  \\\n0           16504                 0          3.0            15766   \n\n                                name  input_onset_0  input_onset_1  \\\n0  A BEAUTIFUL SKY (by recognize m.)              0              0   \n\n   input_onset_2  input_onset_3  input_onset_4  ...  output_columns_790  \\\n0              0              0              0  ...                   0   \n\n   output_columns_791  output_columns_792  output_columns_793  \\\n0                   0                   0                   0   \n\n   output_columns_794  output_columns_795  output_columns_796  \\\n0                   0                   0                   0   \n\n   output_columns_797  output_columns_798  output_columns_799  \n0                   0                   0                   0  \n\n[1 rows x 905 columns]",
      "text/html": "<div>\n<style scoped>\n    .dataframe tbody tr th:only-of-type {\n        vertical-align: middle;\n    }\n\n    .dataframe tbody tr th {\n        vertical-align: top;\n    }\n\n    .dataframe thead th {\n        text-align: right;\n    }\n</style>\n<table border=\"1\" class=\"dataframe\">\n  <thead>\n    <tr style=\"text-align: right;\">\n      <th></th>\n      <th>input_duration</th>\n      <th>input_difficulty</th>\n      <th>input_level</th>\n      <th>output_duration</th>\n      <th>name</th>\n      <th>input_onset_0</th>\n      <th>input_onset_1</th>\n      <th>input_onset_2</th>\n      <th>input_onset_3</th>\n      <th>input_onset_4</th>\n      <th>...</th>\n      <th>output_columns_790</th>\n      <th>output_columns_791</th>\n      <th>output_columns_792</th>\n      <th>output_columns_793</th>\n      <th>output_columns_794</th>\n      <th>output_columns_795</th>\n      <th>output_columns_796</th>\n      <th>output_columns_797</th>\n      <th>output_columns_798</th>\n      <th>output_columns_799</th>\n    </tr>\n  </thead>\n  <tbody>\n    <tr>\n      <th>0</th>\n      <td>16504</td>\n      <td>0</td>\n      <td>3.0</td>\n      <td>15766</td>\n      <td>A BEAUTIFUL SKY (by recognize m.)</td>\n      <td>0</td>\n      <td>0</td>\n      <td>0</td>\n      <td>0</td>\n      <td>0</td>\n      <td>...</td>\n      <td>0</td>\n      <td>0</td>\n      <td>0</td>\n      <td>0</td>\n      <td>0</td>\n      <td>0</td>\n      <td>0</td>\n      <td>0</td>\n      <td>0</td>\n      <td>0</td>\n    </tr>\n  </tbody>\n</table>\n<p>1 rows × 905 columns</p>\n</div>"
     },
     "execution_count": 5,
     "metadata": {},
     "output_type": "execute_result"
    }
   ],
   "source": [
    "dataset.head(1)"
   ],
   "metadata": {
    "collapsed": false
   }
  },
  {
   "cell_type": "code",
   "execution_count": 6,
   "outputs": [],
   "source": [
    "input = dataset.loc[:, dataset.columns.str.startswith('input')]\n",
    "output = dataset.loc[:, dataset.columns.str.startswith('output')]"
   ],
   "metadata": {
    "collapsed": false
   }
  },
  {
   "cell_type": "code",
   "execution_count": 7,
   "outputs": [],
   "source": [
    "# split training set and validation set\n",
    "input_training_set = input[:int(len(input)*0.8)]\n",
    "input_test_set = input[int(len(input)*0.8):]\n",
    "\n",
    "output_training_set = output[:int(len(output)*0.8)]\n",
    "output_test_set = output[int(len(output)*0.8):]"
   ],
   "metadata": {
    "collapsed": false
   }
  },
  {
   "cell_type": "code",
   "execution_count": 8,
   "outputs": [],
   "source": [
    "# # train with mlstm-fcn model\n",
    "# from mlstm_fcn.japanese_vowels_model import generate_model\n",
    "# model = generate_model()\n"
   ],
   "metadata": {
    "collapsed": false
   }
  },
  {
   "cell_type": "code",
   "execution_count": 9,
   "outputs": [],
   "source": [
    "# import numpy as np\n",
    "# from sklearn.preprocessing import LabelEncoder\n",
    "# from keras.utils import to_categorical\n",
    "# from keras.callbacks import ModelCheckpoint, ReduceLROnPlateau\n",
    "#\n",
    "# # classes = np.unique(output_training_set)\n",
    "# # le = LabelEncoder()\n",
    "# # y_ind = le.fit_transform(output_training_set.ravel())\n",
    "# # recip_freq = len(output_training_set) / (len(le.classes_) *\n",
    "# #                              np.bincount(y_ind).astype(np.float64))\n",
    "# # class_weight = recip_freq[le.transform(classes)]\n",
    "# #\n",
    "# # print(\"Class weights : \", class_weight)\n",
    "#\n",
    "# # output_training_set = to_categorical(output_training_set, len(np.unique(output_training_set)))\n",
    "# # output_test_set = to_categorical(output_test_set, len(np.unique(output_test_set)))\n",
    "#\n",
    "# # factor = 1. / np.cbrt(2)\n",
    "#\n",
    "# # reduce_lr = ReduceLROnPlateau(monitor='loss', patience=100, mode='auto',\n",
    "# #                               factor=factor, cooldown=0, min_lr=1e-4, verbose=2)\n",
    "# # callback_list = [model_checkpoint, reduce_lr]\n",
    "# # callback_list = [reduce_lr]\n",
    "#\n",
    "# from keras.optimizers import Adam\n",
    "# optm = Adam(lr=1e-3)\n",
    "#\n",
    "# model.compile(optimizer=optm, loss='categorical_crossentropy', metrics=['accuracy'])"
   ],
   "metadata": {
    "collapsed": false
   }
  },
  {
   "cell_type": "code",
   "execution_count": 10,
   "outputs": [],
   "source": [
    "# model.fit(\n",
    "#     input_training_set,\n",
    "#     output_training_set,\n",
    "#     batch_size=128,\n",
    "#     epochs=1000,\n",
    "#     # callbacks=callback_list,\n",
    "#     # class_weight=class_weight,\n",
    "#     verbose=2,\n",
    "#     validation_data=(input_test_set, output_test_set),\n",
    "# )"
   ],
   "metadata": {
    "collapsed": false
   }
  },
  {
   "cell_type": "code",
   "execution_count": 11,
   "outputs": [],
   "source": [
    "# loss, accuracy = model.evaluate(input_test_set, output_test_set, batch_size=128)\n",
    "# print(\"Final Accuracy : \", accuracy)"
   ],
   "metadata": {
    "collapsed": false
   }
  },
  {
   "cell_type": "code",
   "execution_count": 12,
   "outputs": [],
   "source": [
    "# # validate\n",
    "# validation_set_prediction = model.predict(input_test_set)\n"
   ],
   "metadata": {
    "collapsed": false
   }
  },
  {
   "cell_type": "code",
   "execution_count": 13,
   "outputs": [],
   "source": [
    "\n",
    "\n",
    "# train randomforest model\n",
    "from sklearn.tree import DecisionTreeClassifier\n",
    "decisiontree_classifier = DecisionTreeClassifier(\n",
    "    # criterion='entropy',\n",
    "    # max_depth=10,\n",
    "    # min_samples_leaf=1,\n",
    "    # min_samples_split=2,\n",
    "    # random_state=0,\n",
    ")"
   ],
   "metadata": {
    "collapsed": false
   }
  },
  {
   "cell_type": "markdown",
   "source": [],
   "metadata": {
    "collapsed": false
   }
  },
  {
   "cell_type": "code",
   "execution_count": null,
   "outputs": [],
   "source": [
    "# train\n",
    "decisiontree_classifier.fit(input_training_set, output_training_set)"
   ],
   "metadata": {
    "collapsed": false,
    "pycharm": {
     "is_executing": true
    }
   }
  },
  {
   "cell_type": "code",
   "execution_count": null,
   "outputs": [],
   "source": [
    "# save model\n",
    "import pickle\n",
    "filename = 'decisiontree_classifier_model.sav'\n",
    "pickle.dump(decisiontree_classifier, open(filename, 'wb'))"
   ],
   "metadata": {
    "collapsed": false,
    "pycharm": {
     "is_executing": true
    }
   }
  },
  {
   "cell_type": "code",
   "execution_count": null,
   "outputs": [],
   "source": [
    "# load model\n",
    "loaded_model = pickle.load(open(filename, 'rb'))"
   ],
   "metadata": {
    "collapsed": false,
    "pycharm": {
     "is_executing": true
    }
   }
  },
  {
   "cell_type": "code",
   "execution_count": null,
   "outputs": [],
   "source": [
    "# validation\n",
    "validation_set_prediction = decisiontree_classifier.predict(input_test_set)"
   ],
   "metadata": {
    "collapsed": false,
    "pycharm": {
     "is_executing": true
    }
   }
  },
  {
   "cell_type": "code",
   "execution_count": null,
   "outputs": [],
   "source": [
    "# save validation set prediction\n",
    "validation_set_prediction = pandas.DataFrame(validation_set_prediction)\n",
    "validation_set_prediction.to_csv('validation_set_prediction_with_decisiontree_classifier.csv')"
   ],
   "metadata": {
    "collapsed": false,
    "pycharm": {
     "is_executing": true
    }
   }
  },
  {
   "cell_type": "code",
   "execution_count": null,
   "outputs": [],
   "source": [
    "# from sklearn.ensemble import RandomForestClassifier\n",
    "# randomforest_classifier = RandomForestClassifier()\n",
    "# randomforest_classifier.fit(input_training_set, output_training_set)"
   ],
   "metadata": {
    "collapsed": false,
    "pycharm": {
     "is_executing": true
    }
   }
  },
  {
   "cell_type": "code",
   "execution_count": 1,
   "outputs": [
    {
     "ename": "NameError",
     "evalue": "name 'randomforest_classifier' is not defined",
     "output_type": "error",
     "traceback": [
      "\u001B[0;31m---------------------------------------------------------------------------\u001B[0m",
      "\u001B[0;31mNameError\u001B[0m                                 Traceback (most recent call last)",
      "\u001B[0;32m/var/folders/l8/mkj0vdns52n9cz8p23sn0pdw0000gn/T/ipykernel_27291/1205902876.py\u001B[0m in \u001B[0;36m<cell line: 4>\u001B[0;34m()\u001B[0m\n\u001B[1;32m      2\u001B[0m \u001B[0;32mimport\u001B[0m \u001B[0mpickle\u001B[0m\u001B[0;34m\u001B[0m\u001B[0;34m\u001B[0m\u001B[0m\n\u001B[1;32m      3\u001B[0m \u001B[0mfilename\u001B[0m \u001B[0;34m=\u001B[0m \u001B[0;34m'randomforest_classifier_model.sav'\u001B[0m\u001B[0;34m\u001B[0m\u001B[0;34m\u001B[0m\u001B[0m\n\u001B[0;32m----> 4\u001B[0;31m \u001B[0mpickle\u001B[0m\u001B[0;34m.\u001B[0m\u001B[0mdump\u001B[0m\u001B[0;34m(\u001B[0m\u001B[0mrandomforest_classifier\u001B[0m\u001B[0;34m,\u001B[0m \u001B[0mopen\u001B[0m\u001B[0;34m(\u001B[0m\u001B[0mfilename\u001B[0m\u001B[0;34m,\u001B[0m \u001B[0;34m'wb'\u001B[0m\u001B[0;34m)\u001B[0m\u001B[0;34m)\u001B[0m\u001B[0;34m\u001B[0m\u001B[0;34m\u001B[0m\u001B[0m\n\u001B[0m",
      "\u001B[0;31mNameError\u001B[0m: name 'randomforest_classifier' is not defined"
     ]
    }
   ],
   "source": [
    "# # save model\n",
    "# import pickle\n",
    "# filename = 'randomforest_classifier_model.sav'\n",
    "# pickle.dump(randomforest_classifier, open(filename, 'wb'))"
   ],
   "metadata": {
    "collapsed": false
   }
  },
  {
   "cell_type": "code",
   "execution_count": null,
   "outputs": [],
   "source": [
    "# # validation\n",
    "# validation_set_prediction = randomforest_classifier.predict(input_test_set)\n",
    "# # save validation set prediction\n",
    "# validation_set_prediction = pandas.DataFrame(validation_set_prediction)\n",
    "# validation_set_prediction.to_csv('validation_set_prediction_with_randomforest_classifier.csv')"
   ],
   "metadata": {
    "collapsed": false
   }
  },
  {
   "cell_type": "code",
   "execution_count": 15,
   "outputs": [
    {
     "ename": "ValueError",
     "evalue": "The truth value of an array with more than one element is ambiguous. Use a.any() or a.all()",
     "output_type": "error",
     "traceback": [
      "\u001B[0;31m---------------------------------------------------------------------------\u001B[0m",
      "\u001B[0;31mValueError\u001B[0m                                Traceback (most recent call last)",
      "\u001B[0;32m/var/folders/l8/mkj0vdns52n9cz8p23sn0pdw0000gn/T/ipykernel_76148/1129204641.py\u001B[0m in \u001B[0;36m<cell line: 3>\u001B[0;34m()\u001B[0m\n\u001B[1;32m      2\u001B[0m \u001B[0mcorrect\u001B[0m \u001B[0;34m=\u001B[0m \u001B[0;36m0\u001B[0m\u001B[0;34m\u001B[0m\u001B[0;34m\u001B[0m\u001B[0m\n\u001B[1;32m      3\u001B[0m \u001B[0;32mfor\u001B[0m \u001B[0mi\u001B[0m \u001B[0;32min\u001B[0m \u001B[0mrange\u001B[0m\u001B[0;34m(\u001B[0m\u001B[0mlen\u001B[0m\u001B[0;34m(\u001B[0m\u001B[0mvalidation_set_prediction\u001B[0m\u001B[0;34m)\u001B[0m\u001B[0;34m)\u001B[0m\u001B[0;34m:\u001B[0m\u001B[0;34m\u001B[0m\u001B[0;34m\u001B[0m\u001B[0m\n\u001B[0;32m----> 4\u001B[0;31m     \u001B[0;32mif\u001B[0m \u001B[0mvalidation_set_prediction\u001B[0m\u001B[0;34m[\u001B[0m\u001B[0mi\u001B[0m\u001B[0;34m]\u001B[0m \u001B[0;34m==\u001B[0m \u001B[0moutput_validation_set\u001B[0m\u001B[0;34m.\u001B[0m\u001B[0miloc\u001B[0m\u001B[0;34m[\u001B[0m\u001B[0mi\u001B[0m\u001B[0;34m]\u001B[0m\u001B[0;34m.\u001B[0m\u001B[0mvalues\u001B[0m\u001B[0;34m:\u001B[0m\u001B[0;34m\u001B[0m\u001B[0;34m\u001B[0m\u001B[0m\n\u001B[0m\u001B[1;32m      5\u001B[0m         \u001B[0mcorrect\u001B[0m \u001B[0;34m+=\u001B[0m \u001B[0;36m1\u001B[0m\u001B[0;34m\u001B[0m\u001B[0;34m\u001B[0m\u001B[0m\n\u001B[1;32m      6\u001B[0m \u001B[0mprint\u001B[0m\u001B[0;34m(\u001B[0m\u001B[0mcorrect\u001B[0m\u001B[0;34m/\u001B[0m\u001B[0mlen\u001B[0m\u001B[0;34m(\u001B[0m\u001B[0mvalidation_set_prediction\u001B[0m\u001B[0;34m)\u001B[0m\u001B[0;34m)\u001B[0m\u001B[0;34m\u001B[0m\u001B[0;34m\u001B[0m\u001B[0m\n",
      "\u001B[0;31mValueError\u001B[0m: The truth value of an array with more than one element is ambiguous. Use a.any() or a.all()"
     ]
    }
   ],
   "source": [
    "\n",
    "# print percent of prediction that is correct\n",
    "correct = 0\n",
    "for i in range(len(validation_set_prediction)):\n",
    "    if validation_set_prediction[i] == output_test_set.iloc[i].values:\n",
    "        correct += 1\n",
    "print(correct/len(validation_set_prediction))\n"
   ],
   "metadata": {
    "collapsed": false
   }
  },
  {
   "cell_type": "code",
   "execution_count": null,
   "outputs": [],
   "source": [],
   "metadata": {
    "collapsed": false
   }
  }
 ],
 "metadata": {
  "kernelspec": {
   "display_name": "Python 3",
   "language": "python",
   "name": "python3"
  },
  "language_info": {
   "codemirror_mode": {
    "name": "ipython",
    "version": 2
   },
   "file_extension": ".py",
   "mimetype": "text/x-python",
   "name": "python",
   "nbconvert_exporter": "python",
   "pygments_lexer": "ipython2",
   "version": "2.7.6"
  }
 },
 "nbformat": 4,
 "nbformat_minor": 0
}
